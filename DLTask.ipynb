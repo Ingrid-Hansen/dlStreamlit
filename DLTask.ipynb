{
 "cells": [
  {
   "cell_type": "markdown",
   "metadata": {},
   "source": []
  },
  {
   "cell_type": "code",
   "execution_count": 1,
   "metadata": {},
   "outputs": [],
   "source": [
    "import os\n",
    "import time\n",
    "import requests\n",
    "import random\n",
    "from bs4 import BeautifulSoup\n",
    "from selenium import webdriver\n",
    "from selenium import webdriver\n",
    "from selenium.webdriver.support import expected_conditions as EC\n",
    "\n",
    "import numpy as np\n",
    "import matplotlib.pyplot as plt\n",
    "import tensorflow as tf\n",
    "from tensorflow import keras\n",
    "from keras.models import Sequential\n",
    "from keras.layers import Conv2D\n",
    "from keras.layers import MaxPooling2D\n",
    "from keras.layers import Flatten\n",
    "from keras.layers import Dense\n",
    "from keras.layers import Dropout\n",
    "from keras.preprocessing import image\n",
    "from keras.utils import image_dataset_from_directory\n",
    "import tensorflow as tf\n",
    "from tensorflow import keras\n",
    "from tensorflow.keras import optimizers\n",
    "from tensorflow.keras import layers\n",
    "from keras.callbacks import ModelCheckpoint\n",
    "from tensorflow.keras.preprocessing import image"
   ]
  },
  {
   "cell_type": "code",
   "execution_count": 14,
   "metadata": {},
   "outputs": [],
   "source": [
    "def create_folders(query):\n",
    "    # Create the main \"images\" folder\n",
    "    if not os.path.exists('images'):\n",
    "        os.makedirs('images')\n",
    "\n",
    "    # Create the training set folder within the \"images\" folder\n",
    "    training_folder = os.path.join('images', 'training_set')\n",
    "    if not os.path.exists(training_folder):\n",
    "        os.makedirs(training_folder)\n",
    "\n",
    "    # Create a folder within the training set folder with the query variable as its name\n",
    "    query_training_folder = os.path.join(training_folder, query)\n",
    "    if not os.path.exists(query_training_folder):\n",
    "        os.makedirs(query_training_folder)\n",
    "\n",
    "    # Create the test set folder within the \"images\" folder\n",
    "    test_folder = os.path.join('images', 'test_set')\n",
    "    if not os.path.exists(test_folder):\n",
    "        os.makedirs(test_folder)\n",
    "\n",
    "    # Create a folder within the test set folder with the query variable as its name\n",
    "    query_test_folder = os.path.join(test_folder, query)\n",
    "    if not os.path.exists(query_test_folder):\n",
    "        os.makedirs(query_test_folder)"
   ]
  },
  {
   "cell_type": "code",
   "execution_count": 15,
   "metadata": {},
   "outputs": [],
   "source": [
    "def download_images(image_urls, query, folder):\n",
    "\n",
    "    for i, image_url in enumerate(image_urls):\n",
    "        image_data = requests.get(image_url).content\n",
    "        training_dir = os.path.join(query, \"training_data\")\n",
    "        test_dir = os.path.join(query, \"test_data\")\n",
    "        if random.random() <= 0.8:\n",
    "            target_dir = os.path.join('images','training_set', folder)\n",
    "            #with open(os.path.join(folder, f\"{query}_{i}.jpg\"), 'wb') as image_file:\n",
    "            #    image_file.write(image_data)\n",
    "        else:\n",
    "            target_dir = os.path.join('images','test_set', folder)\n",
    "        with open(os.path.join(target_dir, f\"{query}_{i}.jpg\"), 'wb') as image_file:\n",
    "                image_file.write(image_data)\n"
   ]
  },
  {
   "cell_type": "code",
   "execution_count": 4,
   "metadata": {},
   "outputs": [],
   "source": [
    "def scrape_images(query):\n",
    "    driver = webdriver.Chrome()\n",
    "    driver.get(f\"https://www.google.com/search?q={query}&tbm=isch\")\n",
    "    for _ in range(10):\n",
    "        driver.execute_script(\"window.scrollTo(0, document.body.scrollHeight);\")\n",
    "        time.sleep(2)\n",
    "    soup = BeautifulSoup(driver.page_source, 'lxml')\n",
    "\n",
    "    driver.quit()\n",
    "\n",
    "    img_tags = soup.findAll('img', class_='rg_i Q4LuWd')\n",
    "    img_urls = []\n",
    "  \n",
    "    for img_tag in img_tags:\n",
    "        if img_tag.has_attr('data-src'):\n",
    "            img_urls.append(img_tag['data-src'])\n",
    "    return list(img_urls)\n",
    "\n",
    "  \n",
    "\n",
    "\n",
    "\n"
   ]
  },
  {
   "cell_type": "code",
   "execution_count": 37,
   "metadata": {},
   "outputs": [],
   "source": [
    "\n",
    "#categories = [\"city\", \"beach\",\"forest\",\"mountain\",\"desert\"]\n",
    "\n",
    "categories = {\n",
    "    'forest': ['forest','skog'],\n",
    "    'city':['city','large city'],\n",
    "    'beach': ['beach', 'strand'],\n",
    "    'mountain': ['mountain','fjell'],\n",
    "    'desert': ['desert', 'de woestijn']\n",
    "    #'desert': ['desert','ørken']\n",
    "}\n",
    "\n",
    "redoDesert = {\n",
    "    'desert': ['desert', 'de woestijn']\n",
    "}"
   ]
  },
  {
   "cell_type": "code",
   "execution_count": 36,
   "metadata": {},
   "outputs": [],
   "source": [
    "for key, values in categories.items():\n",
    "    create_folders(key)\n",
    "    for value in values:\n",
    "        img_urls = scrape_images(value)\n",
    "        download_images(img_urls,value, key)"
   ]
  },
  {
   "cell_type": "code",
   "execution_count": 38,
   "metadata": {},
   "outputs": [],
   "source": [
    "for key, values in redoDesert.items():\n",
    "    create_folders(key)\n",
    "    for value in values:\n",
    "        img_urls = scrape_images(value)\n",
    "        download_images(img_urls,value, key)"
   ]
  },
  {
   "cell_type": "markdown",
   "metadata": {},
   "source": [
    "# Create Model"
   ]
  },
  {
   "cell_type": "code",
   "execution_count": 2,
   "metadata": {},
   "outputs": [],
   "source": [
    "NUM_CLASSES = 5\n",
    "\n",
    "# Create a sequential model with a list of layers\n",
    "model = tf.keras.Sequential([\n",
    "  layers.Conv2D(32, (3, 3), input_shape = (64, 64, 3), activation=\"relu\"),\n",
    "  layers.MaxPooling2D((2, 2)),\n",
    "  layers.Dropout(0.2),\n",
    "  layers.Conv2D(32, (3, 3), activation=\"relu\"),\n",
    "  layers.MaxPooling2D((2, 2)),\n",
    "  layers.Dropout(0.2),\n",
    "  layers.Flatten(),\n",
    "  layers.Dense(128, activation=\"relu\"),\n",
    "  layers.Dense(NUM_CLASSES, activation=\"softmax\") # because it's one class, we use sigmoid\n",
    "])\n",
    "\n"
   ]
  },
  {
   "cell_type": "code",
   "execution_count": 3,
   "metadata": {},
   "outputs": [
    {
     "name": "stdout",
     "output_type": "stream",
     "text": [
      "Model: \"sequential\"\n",
      "_________________________________________________________________\n",
      " Layer (type)                Output Shape              Param #   \n",
      "=================================================================\n",
      " conv2d (Conv2D)             (None, 62, 62, 32)        896       \n",
      "                                                                 \n",
      " max_pooling2d (MaxPooling2  (None, 31, 31, 32)        0         \n",
      " D)                                                              \n",
      "                                                                 \n",
      " dropout (Dropout)           (None, 31, 31, 32)        0         \n",
      "                                                                 \n",
      " conv2d_1 (Conv2D)           (None, 29, 29, 32)        9248      \n",
      "                                                                 \n",
      " max_pooling2d_1 (MaxPoolin  (None, 14, 14, 32)        0         \n",
      " g2D)                                                            \n",
      "                                                                 \n",
      " dropout_1 (Dropout)         (None, 14, 14, 32)        0         \n",
      "                                                                 \n",
      " flatten (Flatten)           (None, 6272)              0         \n",
      "                                                                 \n",
      " dense (Dense)               (None, 128)               802944    \n",
      "                                                                 \n",
      " dense_1 (Dense)             (None, 5)                 645       \n",
      "                                                                 \n",
      "=================================================================\n",
      "Total params: 813733 (3.10 MB)\n",
      "Trainable params: 813733 (3.10 MB)\n",
      "Non-trainable params: 0 (0.00 Byte)\n",
      "_________________________________________________________________\n",
      "None\n"
     ]
    }
   ],
   "source": [
    "# Compile and train your model as usual\n",
    "model.compile(optimizer = optimizers.Adam(learning_rate=0.001), \n",
    "              loss = 'binary_crossentropy', \n",
    "              metrics = ['accuracy'])\n",
    "\n",
    "print(model.summary())"
   ]
  },
  {
   "cell_type": "markdown",
   "metadata": {},
   "source": [
    "### Data Preprocessing and augmentation"
   ]
  },
  {
   "cell_type": "markdown",
   "metadata": {},
   "source": []
  },
  {
   "cell_type": "code",
   "execution_count": 4,
   "metadata": {},
   "outputs": [],
   "source": [
    "NUM_CLASSES = 5\n",
    "IMG_SIZE = 64\n",
    "# There is no shearing option anymore, but there is a translation option\n",
    "HEIGTH_FACTOR = 0.2\n",
    "WIDTH_FACTOR = 0.2\n",
    "\n",
    "# Create a sequential model with a list of layers\n",
    "model = tf.keras.Sequential([\n",
    "  # Add a resizing layer to resize the images to a consistent shape\n",
    "  layers.Resizing(IMG_SIZE, IMG_SIZE),\n",
    "  # Add a rescaling layer to rescale the pixel values to the [0, 1] range\n",
    "  layers.Rescaling(1./255),\n",
    "  # Add some data augmentation layers to apply random transformations during training\n",
    "  layers.RandomFlip(\"horizontal\"),\n",
    "  layers.RandomTranslation(HEIGTH_FACTOR,WIDTH_FACTOR),\n",
    "  layers.RandomZoom(0.2),\n",
    "\n",
    "\n",
    "  layers.RandomFlip(\"vertical\"),\n",
    "  \n",
    "  layers.RandomContrast(0.2),\n",
    "\n",
    "  #layers.RandomCrop(32,32),\n",
    "  #layers.RandomBrightness(0.2),\n",
    "\n",
    "  \n",
    "\n",
    "\n",
    "\n",
    "  layers.Conv2D(32, (3, 3), input_shape = (64, 64, 3), activation=\"relu\"),\n",
    "  layers.MaxPooling2D((2, 2)),\n",
    "  layers.Dropout(0.2),\n",
    "  layers.Conv2D(32, (3, 3), activation=\"relu\"),\n",
    "  layers.MaxPooling2D((2, 2)),\n",
    "  layers.Dropout(0.2),\n",
    "  layers.Flatten(), # Or, layers.GlobalAveragePooling2D()\n",
    "  layers.Dense(128, activation=\"relu\"),\n",
    "  layers.Dense(NUM_CLASSES, activation=\"softmax\")\n",
    "])\n",
    "#checkpoint = ModelCheckpoint(\"saved_models/checkpoints/standardmodel/weights_{epoch:02d}.tf\", save_weights_only=True, save_freq=\"epoch\")\n",
    "# Compile and train your model as usual\n",
    "model.compile(optimizer = 'adam', loss = 'categorical_crossentropy', metrics = ['accuracy'])"
   ]
  },
  {
   "cell_type": "code",
   "execution_count": 5,
   "metadata": {},
   "outputs": [
    {
     "name": "stdout",
     "output_type": "stream",
     "text": [
      "Found 1602 files belonging to 5 classes.\n",
      "Using 1282 files for training.\n",
      "Found 1602 files belonging to 5 classes.\n",
      "Using 320 files for validation.\n",
      "Found 418 files belonging to 5 classes.\n"
     ]
    }
   ],
   "source": [
    "# Set the parameters for your data\n",
    "batch_size = 32\n",
    "image_size = (64, 64)\n",
    "validation_split = 0.2\n",
    "\n",
    "# Create the training dataset from the 'train' directory\n",
    "train_ds = image_dataset_from_directory(\n",
    "    directory='images/training_set',\n",
    "    labels='inferred',\n",
    "    label_mode='categorical',\n",
    "    batch_size=batch_size,\n",
    "    image_size=image_size,\n",
    "    validation_split=validation_split,\n",
    "    subset='training',\n",
    "    seed=123\n",
    ")\n",
    "\n",
    "# Create the validation dataset from the 'train' directory\n",
    "validation_ds = image_dataset_from_directory(\n",
    "    directory='images/training_set',\n",
    "    labels='inferred',\n",
    "    label_mode='categorical',\n",
    "    batch_size=batch_size,\n",
    "    image_size=image_size,\n",
    "    validation_split=validation_split,\n",
    "    subset='validation',\n",
    "    seed=123\n",
    ")\n",
    "\n",
    "# Create the testing dataset from the 'test' directory\n",
    "test_ds = image_dataset_from_directory(\n",
    "    directory='images/test_set',\n",
    "    labels='inferred',\n",
    "    label_mode='categorical',\n",
    "    batch_size=batch_size,\n",
    "    image_size=image_size\n",
    ")\n"
   ]
  },
  {
   "cell_type": "markdown",
   "metadata": {},
   "source": [
    "### Training and Validation"
   ]
  },
  {
   "cell_type": "code",
   "execution_count": 6,
   "metadata": {},
   "outputs": [
    {
     "name": "stdout",
     "output_type": "stream",
     "text": [
      "Epoch 1/50\n"
     ]
    },
    {
     "name": "stdout",
     "output_type": "stream",
     "text": [
      "41/41 [==============================] - 4s 73ms/step - loss: 1.4648 - accuracy: 0.3619 - val_loss: 1.2694 - val_accuracy: 0.5000\n",
      "Epoch 2/50\n",
      "41/41 [==============================] - 3s 72ms/step - loss: 1.2555 - accuracy: 0.4743 - val_loss: 1.1156 - val_accuracy: 0.5719\n",
      "Epoch 3/50\n",
      "41/41 [==============================] - 3s 74ms/step - loss: 1.2170 - accuracy: 0.4891 - val_loss: 1.0429 - val_accuracy: 0.5781\n",
      "Epoch 4/50\n",
      "41/41 [==============================] - 3s 71ms/step - loss: 1.1636 - accuracy: 0.5242 - val_loss: 1.0999 - val_accuracy: 0.5688\n",
      "Epoch 5/50\n",
      "41/41 [==============================] - 3s 67ms/step - loss: 1.1415 - accuracy: 0.5367 - val_loss: 1.0017 - val_accuracy: 0.5844\n",
      "Epoch 6/50\n",
      "41/41 [==============================] - 3s 66ms/step - loss: 1.1648 - accuracy: 0.5437 - val_loss: 0.9774 - val_accuracy: 0.6094\n",
      "Epoch 7/50\n",
      "41/41 [==============================] - 3s 66ms/step - loss: 1.1088 - accuracy: 0.5585 - val_loss: 0.9726 - val_accuracy: 0.6125\n",
      "Epoch 8/50\n",
      "41/41 [==============================] - 3s 66ms/step - loss: 1.0955 - accuracy: 0.5460 - val_loss: 0.9928 - val_accuracy: 0.6031\n",
      "Epoch 9/50\n",
      "41/41 [==============================] - 3s 65ms/step - loss: 1.0789 - accuracy: 0.5702 - val_loss: 0.9284 - val_accuracy: 0.6094\n",
      "Epoch 10/50\n",
      "41/41 [==============================] - 3s 67ms/step - loss: 1.0451 - accuracy: 0.5671 - val_loss: 0.9711 - val_accuracy: 0.6094\n",
      "Epoch 11/50\n",
      "41/41 [==============================] - 3s 66ms/step - loss: 1.0976 - accuracy: 0.5608 - val_loss: 0.9651 - val_accuracy: 0.5969\n",
      "Epoch 12/50\n",
      "41/41 [==============================] - 3s 66ms/step - loss: 1.0784 - accuracy: 0.5827 - val_loss: 0.9325 - val_accuracy: 0.6125\n",
      "Epoch 13/50\n",
      "41/41 [==============================] - 3s 66ms/step - loss: 1.0329 - accuracy: 0.5788 - val_loss: 0.9065 - val_accuracy: 0.6656\n",
      "Epoch 14/50\n",
      "41/41 [==============================] - 3s 67ms/step - loss: 1.0422 - accuracy: 0.5858 - val_loss: 0.9068 - val_accuracy: 0.6438\n",
      "Epoch 15/50\n",
      "41/41 [==============================] - 3s 67ms/step - loss: 1.0037 - accuracy: 0.5975 - val_loss: 0.9217 - val_accuracy: 0.6313\n",
      "Epoch 16/50\n",
      "41/41 [==============================] - 3s 70ms/step - loss: 1.0233 - accuracy: 0.5967 - val_loss: 0.9329 - val_accuracy: 0.6281\n",
      "Epoch 17/50\n",
      "41/41 [==============================] - 3s 71ms/step - loss: 1.0436 - accuracy: 0.5819 - val_loss: 0.9018 - val_accuracy: 0.6406\n",
      "Epoch 18/50\n",
      "41/41 [==============================] - 3s 72ms/step - loss: 1.0017 - accuracy: 0.6030 - val_loss: 0.8784 - val_accuracy: 0.6656\n",
      "Epoch 19/50\n",
      "41/41 [==============================] - 3s 72ms/step - loss: 1.0551 - accuracy: 0.5850 - val_loss: 0.9025 - val_accuracy: 0.6531\n",
      "Epoch 20/50\n",
      "41/41 [==============================] - 3s 73ms/step - loss: 0.9724 - accuracy: 0.6186 - val_loss: 0.8804 - val_accuracy: 0.6531\n",
      "Epoch 21/50\n",
      "41/41 [==============================] - 3s 74ms/step - loss: 0.9819 - accuracy: 0.5983 - val_loss: 0.8771 - val_accuracy: 0.6781\n",
      "Epoch 22/50\n",
      "41/41 [==============================] - 3s 70ms/step - loss: 0.9843 - accuracy: 0.6061 - val_loss: 0.8597 - val_accuracy: 0.6594\n",
      "Epoch 23/50\n",
      "41/41 [==============================] - 3s 71ms/step - loss: 0.9566 - accuracy: 0.6209 - val_loss: 0.8453 - val_accuracy: 0.6906\n",
      "Epoch 24/50\n",
      "41/41 [==============================] - 3s 75ms/step - loss: 0.9470 - accuracy: 0.6342 - val_loss: 0.8311 - val_accuracy: 0.6906\n",
      "Epoch 25/50\n",
      "41/41 [==============================] - 3s 72ms/step - loss: 0.9925 - accuracy: 0.6201 - val_loss: 0.8839 - val_accuracy: 0.6719\n",
      "Epoch 26/50\n",
      "41/41 [==============================] - 3s 71ms/step - loss: 0.9675 - accuracy: 0.6147 - val_loss: 0.8833 - val_accuracy: 0.6625\n",
      "Epoch 27/50\n",
      "41/41 [==============================] - 3s 72ms/step - loss: 0.9310 - accuracy: 0.6365 - val_loss: 0.8274 - val_accuracy: 0.6750\n",
      "Epoch 28/50\n",
      "41/41 [==============================] - 3s 73ms/step - loss: 0.9373 - accuracy: 0.6334 - val_loss: 0.8232 - val_accuracy: 0.6906\n",
      "Epoch 29/50\n",
      "41/41 [==============================] - 3s 72ms/step - loss: 0.9320 - accuracy: 0.6466 - val_loss: 0.8368 - val_accuracy: 0.6781\n",
      "Epoch 30/50\n",
      "41/41 [==============================] - 3s 72ms/step - loss: 0.9327 - accuracy: 0.6373 - val_loss: 0.8489 - val_accuracy: 0.6750\n",
      "Epoch 31/50\n",
      "41/41 [==============================] - 3s 72ms/step - loss: 0.9464 - accuracy: 0.6232 - val_loss: 0.8189 - val_accuracy: 0.6844\n",
      "Epoch 32/50\n",
      "41/41 [==============================] - 3s 72ms/step - loss: 0.9174 - accuracy: 0.6381 - val_loss: 0.8630 - val_accuracy: 0.6562\n",
      "Epoch 33/50\n",
      "41/41 [==============================] - 3s 71ms/step - loss: 0.9386 - accuracy: 0.6326 - val_loss: 0.8709 - val_accuracy: 0.6656\n",
      "Epoch 34/50\n",
      "41/41 [==============================] - 3s 71ms/step - loss: 0.9633 - accuracy: 0.6248 - val_loss: 0.8320 - val_accuracy: 0.6719\n",
      "Epoch 35/50\n",
      "41/41 [==============================] - 3s 72ms/step - loss: 0.9379 - accuracy: 0.6154 - val_loss: 0.8749 - val_accuracy: 0.6750\n",
      "Epoch 36/50\n",
      "41/41 [==============================] - 3s 72ms/step - loss: 0.8810 - accuracy: 0.6474 - val_loss: 0.8219 - val_accuracy: 0.6969\n",
      "Epoch 37/50\n",
      "41/41 [==============================] - 3s 82ms/step - loss: 0.8864 - accuracy: 0.6677 - val_loss: 0.8495 - val_accuracy: 0.6812\n",
      "Epoch 38/50\n",
      "41/41 [==============================] - 3s 74ms/step - loss: 0.8617 - accuracy: 0.6646 - val_loss: 0.7736 - val_accuracy: 0.7250\n",
      "Epoch 39/50\n",
      "41/41 [==============================] - 3s 75ms/step - loss: 0.8845 - accuracy: 0.6568 - val_loss: 0.7605 - val_accuracy: 0.6969\n",
      "Epoch 40/50\n",
      "41/41 [==============================] - 3s 74ms/step - loss: 0.8517 - accuracy: 0.6677 - val_loss: 0.7780 - val_accuracy: 0.6969\n",
      "Epoch 41/50\n",
      "41/41 [==============================] - 3s 76ms/step - loss: 0.8909 - accuracy: 0.6498 - val_loss: 0.7900 - val_accuracy: 0.6844\n",
      "Epoch 42/50\n",
      "41/41 [==============================] - 3s 74ms/step - loss: 0.8845 - accuracy: 0.6669 - val_loss: 0.8547 - val_accuracy: 0.6750\n",
      "Epoch 43/50\n",
      "41/41 [==============================] - 3s 75ms/step - loss: 0.8436 - accuracy: 0.6747 - val_loss: 0.7854 - val_accuracy: 0.6875\n",
      "Epoch 44/50\n",
      "41/41 [==============================] - 3s 75ms/step - loss: 0.8624 - accuracy: 0.6420 - val_loss: 0.7628 - val_accuracy: 0.7188\n",
      "Epoch 45/50\n",
      "41/41 [==============================] - 3s 73ms/step - loss: 0.8463 - accuracy: 0.6724 - val_loss: 0.7739 - val_accuracy: 0.7094\n",
      "Epoch 46/50\n",
      "41/41 [==============================] - 3s 73ms/step - loss: 0.8674 - accuracy: 0.6661 - val_loss: 0.7825 - val_accuracy: 0.6969\n",
      "Epoch 47/50\n",
      "41/41 [==============================] - 3s 75ms/step - loss: 0.9338 - accuracy: 0.6373 - val_loss: 0.7658 - val_accuracy: 0.7375\n",
      "Epoch 48/50\n",
      "41/41 [==============================] - 3s 75ms/step - loss: 0.8575 - accuracy: 0.6685 - val_loss: 0.7979 - val_accuracy: 0.7031\n",
      "Epoch 49/50\n",
      "41/41 [==============================] - 3s 74ms/step - loss: 0.8401 - accuracy: 0.6802 - val_loss: 0.7833 - val_accuracy: 0.7156\n",
      "Epoch 50/50\n",
      "41/41 [==============================] - 3s 74ms/step - loss: 0.8210 - accuracy: 0.6872 - val_loss: 0.8313 - val_accuracy: 0.6844\n"
     ]
    }
   ],
   "source": [
    "history = model.fit(train_ds,\n",
    "                validation_data = validation_ds,\n",
    "                steps_per_epoch = 41,\n",
    "                epochs = 50,\n",
    "                callbacks=[checkpoint]\n",
    "                )"
   ]
  },
  {
   "cell_type": "markdown",
   "metadata": {},
   "source": [
    "### Validation"
   ]
  },
  {
   "cell_type": "code",
   "execution_count": 7,
   "metadata": {},
   "outputs": [
    {
     "name": "stdout",
     "output_type": "stream",
     "text": [
      "INFO:tensorflow:Assets written to: modelSaved/savedmodel.tf\\assets\n"
     ]
    },
    {
     "name": "stderr",
     "output_type": "stream",
     "text": [
      "INFO:tensorflow:Assets written to: modelSaved/savedmodel.tf\\assets\n"
     ]
    }
   ],
   "source": [
    "model.save(\"modelSaved/savedmodel.tf\")"
   ]
  },
  {
   "cell_type": "code",
   "execution_count": 6,
   "metadata": {},
   "outputs": [],
   "source": [
    "from keras.models import load_model\n",
    "\n",
    "model = load_model(\"modelSaved/savedmodel.tf\")"
   ]
  },
  {
   "cell_type": "code",
   "execution_count": 7,
   "metadata": {},
   "outputs": [
    {
     "ename": "NameError",
     "evalue": "name 'history' is not defined",
     "output_type": "error",
     "traceback": [
      "\u001b[1;31m---------------------------------------------------------------------------\u001b[0m",
      "\u001b[1;31mNameError\u001b[0m                                 Traceback (most recent call last)",
      "\u001b[1;32mc:\\Users\\ingri\\Documents\\3ITF\\AICourse\\Lessons\\DLTask\\DLTask.ipynb Cell 21\u001b[0m line \u001b[0;36m5\n\u001b[0;32m      <a href='vscode-notebook-cell:/c%3A/Users/ingri/Documents/3ITF/AICourse/Lessons/DLTask/DLTask.ipynb#X26sZmlsZQ%3D%3D?line=1'>2</a>\u001b[0m fig, (ax1, ax2) \u001b[39m=\u001b[39m plt\u001b[39m.\u001b[39msubplots(\u001b[39m1\u001b[39m, \u001b[39m2\u001b[39m, figsize\u001b[39m=\u001b[39m(\u001b[39m10\u001b[39m,\u001b[39m5\u001b[39m))\n\u001b[0;32m      <a href='vscode-notebook-cell:/c%3A/Users/ingri/Documents/3ITF/AICourse/Lessons/DLTask/DLTask.ipynb#X26sZmlsZQ%3D%3D?line=3'>4</a>\u001b[0m \u001b[39m# Plot the loss curves on the first subplot\u001b[39;00m\n\u001b[1;32m----> <a href='vscode-notebook-cell:/c%3A/Users/ingri/Documents/3ITF/AICourse/Lessons/DLTask/DLTask.ipynb#X26sZmlsZQ%3D%3D?line=4'>5</a>\u001b[0m ax1\u001b[39m.\u001b[39mplot(history\u001b[39m.\u001b[39mhistory[\u001b[39m'\u001b[39m\u001b[39mloss\u001b[39m\u001b[39m'\u001b[39m], label\u001b[39m=\u001b[39m\u001b[39m'\u001b[39m\u001b[39mtraining loss\u001b[39m\u001b[39m'\u001b[39m)\n\u001b[0;32m      <a href='vscode-notebook-cell:/c%3A/Users/ingri/Documents/3ITF/AICourse/Lessons/DLTask/DLTask.ipynb#X26sZmlsZQ%3D%3D?line=5'>6</a>\u001b[0m ax1\u001b[39m.\u001b[39mplot(history\u001b[39m.\u001b[39mhistory[\u001b[39m'\u001b[39m\u001b[39mval_loss\u001b[39m\u001b[39m'\u001b[39m], label\u001b[39m=\u001b[39m\u001b[39m'\u001b[39m\u001b[39mvalidation loss\u001b[39m\u001b[39m'\u001b[39m)\n\u001b[0;32m      <a href='vscode-notebook-cell:/c%3A/Users/ingri/Documents/3ITF/AICourse/Lessons/DLTask/DLTask.ipynb#X26sZmlsZQ%3D%3D?line=6'>7</a>\u001b[0m ax1\u001b[39m.\u001b[39mset_title(\u001b[39m'\u001b[39m\u001b[39mLoss curves\u001b[39m\u001b[39m'\u001b[39m)\n",
      "\u001b[1;31mNameError\u001b[0m: name 'history' is not defined"
     ]
    },
    {
     "data": {
      "image/png": "[encoded data removed]",
      "text/plain": [
       "<Figure size 1000x500 with 2 Axes>"
      ]
     },
     "metadata": {},
     "output_type": "display_data"
    }
   ],
   "source": [
    "# Create a figure and a grid of subplots with a single call\n",
    "fig, (ax1, ax2) = plt.subplots(1, 2, figsize=(10,5))\n",
    "\n",
    "# Plot the loss curves on the first subplot\n",
    "ax1.plot(history.history['loss'], label='training loss')\n",
    "ax1.plot(history.history['val_loss'], label='validation loss')\n",
    "ax1.set_title('Loss curves')\n",
    "ax1.set_xlabel('Epoch')\n",
    "ax1.set_ylabel('Loss')\n",
    "ax1.legend()\n",
    "\n",
    "# Plot the accuracy curves on the second subplot\n",
    "ax2.plot(history.history['accuracy'], label='training accuracy')\n",
    "ax2.plot(history.history['val_accuracy'], label='validation accuracy')\n",
    "ax2.set_title('Accuracy curves')\n",
    "ax2.set_xlabel('Epoch')\n",
    "ax2.set_ylabel('Accuracy')\n",
    "ax2.legend()\n",
    "\n",
    "# Adjust the spacing between subplots\n",
    "fig.tight_layout()\n",
    "\n",
    "# Show the figure\n",
    "plt.show()"
   ]
  },
  {
   "cell_type": "code",
   "execution_count": 80,
   "metadata": {},
   "outputs": [
    {
     "data": {
      "image/png": "[encoded data removed]",
      "text/plain": [
       "<Figure size 1000x500 with 1 Axes>"
      ]
     },
     "metadata": {},
     "output_type": "display_data"
    }
   ],
   "source": [
    "# Extract training and validation accuracy from the history object\n",
    "training_accuracy = history.history['accuracy']\n",
    "validation_accuracy = history.history['val_accuracy']\n",
    "\n",
    "# Calculate error (misclassification rate) by subtracting accuracy from 1\n",
    "training_error = [1 - acc for acc in training_accuracy]\n",
    "validation_error = [1 - acc for acc in validation_accuracy]\n",
    "\n",
    "# Create a list of epoch numbers for x-axis\n",
    "epochs = range(1, len(training_accuracy) + 1)\n",
    "\n",
    "# Plot the training and validation error\n",
    "plt.figure(figsize=(10, 5))\n",
    "plt.plot(epochs, training_error, 'b', label='Training Error')\n",
    "plt.plot(epochs, validation_error, 'r', label='Validation Error')\n",
    "plt.title('Training and Validation Error')\n",
    "plt.xlabel('Epochs')\n",
    "plt.ylabel('Error')\n",
    "plt.legend()\n",
    "plt.grid(True)\n",
    "plt.show()"
   ]
  },
  {
   "cell_type": "markdown",
   "metadata": {},
   "source": [
    "### Prediction"
   ]
  },
  {
   "cell_type": "code",
   "execution_count": 68,
   "metadata": {},
   "outputs": [
    {
     "data": {
      "text/plain": [
       "<tensorflow.python.checkpoint.checkpoint.CheckpointLoadStatus at 0x23e30b905e0>"
      ]
     },
     "execution_count": 68,
     "metadata": {},
     "output_type": "execute_result"
    }
   ],
   "source": [
    "epoch_nr = '42'\n",
    "\n",
    "model.load_weights(f\"saved_models/checkpoints/standardmodel/weights_{epoch_nr}.tf\")\n"
   ]
  },
  {
   "cell_type": "code",
   "execution_count": 15,
   "metadata": {},
   "outputs": [
    {
     "name": "stdout",
     "output_type": "stream",
     "text": [
      "1/1 [==============================] - 0s 21ms/step\n",
      "The model predicts class: forest\n"
     ]
    }
   ],
   "source": [
    "def predict_image(img):\n",
    "    test_image = image.load_img(img, target_size=(64, 64))\n",
    "    test_image = image.img_to_array(test_image)\n",
    "    test_image = test_image / 255.0  # Ensure pixel values are in the [0, 1] range\n",
    "    test_image = np.expand_dims(test_image, axis=0)\n",
    "    class_names = train_ds.class_names\n",
    "    # Use the model to predict the class\n",
    "    predict = model.predict(test_image)\n",
    "\n",
    "    predicted_class_index = np.argmax(predict[0])\n",
    "\n",
    "    predicted_class_name = class_names[predicted_class_index]\n",
    "\n",
    "    print(f\"The model predicts class: {predicted_class_name}\")\n",
    "\n",
    "to_predict = \"PredictionImages/dst.jpg\"\n",
    "\n",
    "predict_image(to_predict)\n"
   ]
  },
  {
   "cell_type": "markdown",
   "metadata": {},
   "source": [
    "### Confusion Matrix"
   ]
  },
  {
   "cell_type": "code",
   "execution_count": 20,
   "metadata": {},
   "outputs": [
    {
     "name": "stdout",
     "output_type": "stream",
     "text": [
      "1/1 [==============================] - 0s 18ms/step\n",
      "The model predicts class: forest\n"
     ]
    }
   ],
   "source": [
    "from tensorflow.keras.preprocessing import image\n",
    "import numpy as np\n",
    "\n",
    "# Load the image\n",
    "img = image.load_img('PredictionImages/Torghatten-Norvegia-SOCIAL-1.jpg', target_size=image_size)\n",
    "img_array = image.img_to_array(img)\n",
    "\n",
    "# Our model was trained on images normalized to [0,1], so we need to normalize our input image too\n",
    "img_array = img_array / 255.0\n",
    "class_names = train_ds.class_names\n",
    "# Models expect a batch of images as input, so we add an extra dimension\n",
    "img_array = np.expand_dims(img_array, axis=0)\n",
    "\n",
    "# Use the model to predict the class\n",
    "predictions = model.predict(img_array)\n",
    "\n",
    "# The output of the model is a softmax layer, we take the argmax to get the predicted class index\n",
    "predicted_class = np.argmax(predictions[0])\n",
    "predicted_class_name = class_names[predicted_class]\n",
    "print(f\"The model predicts class: {predicted_class_name}\")"
   ]
  },
  {
   "cell_type": "code",
   "execution_count": 9,
   "metadata": {},
   "outputs": [],
   "source": [
    "import numpy as np\n",
    "from sklearn.metrics import confusion_matrix\n",
    "import matplotlib.pyplot as plt\n",
    "import seaborn as sns\n",
    "# Create empty lists to store the true labels\n",
    "true_labels = []\n",
    "\n",
    "# Iterate through the test dataset to extract true labels\n",
    "for images, labels in test_ds:\n",
    "    true_labels.extend(np.argmax(labels, axis=1))\n",
    "\n",
    "# Convert true_labels to a list or array\n",
    "true_labels = list(true_labels)\n"
   ]
  },
  {
   "cell_type": "code",
   "execution_count": 10,
   "metadata": {},
   "outputs": [
    {
     "name": "stdout",
     "output_type": "stream",
     "text": [
      "14/14 [==============================] - 0s 13ms/step\n"
     ]
    }
   ],
   "source": [
    "predictions = model.predict(test_ds)\n",
    "predicted_classes = np.argmax(predictions, axis=1)\n"
   ]
  },
  {
   "cell_type": "code",
   "execution_count": 21,
   "metadata": {},
   "outputs": [
    {
     "data": {
      "image/png": "[encoded data removed]",
      "text/plain": [
       "<Figure size 1000x800 with 2 Axes>"
      ]
     },
     "metadata": {},
     "output_type": "display_data"
    }
   ],
   "source": [
    "cm = confusion_matrix(true_labels, predicted_classes)\n",
    "\n",
    "# Visualize the confusion matrix\n",
    "plt.figure(figsize=(10, 8))\n",
    "sns.heatmap(cm, annot=True, fmt='d', cmap='Blues', xticklabels=[\"forest\",\"mountain\",\"beach\",\"desert\",\"city\"], yticklabels=[\"forest\",\"mountain\",\"beach\",\"desert\",\"city\"])\n",
    "plt.xlabel('Predicted')\n",
    "plt.ylabel('True')\n",
    "plt.title('Confusion Matrix')\n",
    "plt.show()"
   ]
  },
  {
   "cell_type": "markdown",
   "metadata": {},
   "source": [
    "### Teachable Machine"
   ]
  },
  {
   "cell_type": "markdown",
   "metadata": {},
   "source": [
    "Looking at the confusion matrix, it is clear that the model struggles the most to differenciate beach from the other categories, especially desert and forest. This is not too strange, as deserts and beaches both consist of sand, and beaches are often in close proimity to plants and cities.\n",
    "\n",
    "\n",
    "Since this is the area where the model struggles the most it would be interesting to see how Googles Teachable Machine performes on the beach test data. A couple of images from the test set has been selected and we will in this section see what the model created in this task predicts vs Google Teachable Machine.\n"
   ]
  },
  {
   "cell_type": "code",
   "execution_count": 13,
   "metadata": {},
   "outputs": [
    {
     "name": "stdout",
     "output_type": "stream",
     "text": [
      "1/1 [==============================] - 0s 23ms/step\n",
      "The model predicts class: forest\n"
     ]
    }
   ],
   "source": [
    "predict_image(\"CompareImages/beach_44.jpg\")"
   ]
  }
 ],
 "metadata": {
  "kernelspec": {
   "display_name": "DL_env",
   "language": "python",
   "name": "python3"
  },
  "language_info": {
   "codemirror_mode": {
    "name": "ipython",
    "version": 3
   },
   "file_extension": ".py",
   "mimetype": "text/x-python",
   "name": "python",
   "nbconvert_exporter": "python",
   "pygments_lexer": "ipython3",
   "version": "3.9.7"
  }
 },
 "nbformat": 4,
 "nbformat_minor": 2
}
